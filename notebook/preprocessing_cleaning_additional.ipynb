{
 "cells": [
  {
   "cell_type": "code",
   "execution_count": 1,
   "metadata": {},
   "outputs": [],
   "source": [
    "import pandas as pd"
   ]
  },
  {
   "cell_type": "code",
   "execution_count": 2,
   "metadata": {},
   "outputs": [],
   "source": [
    "df_additional = pd.read_csv('./data_raw/book_additional.csv', index_col=0)"
   ]
  },
  {
   "cell_type": "code",
   "execution_count": 26,
   "metadata": {},
   "outputs": [
    {
     "name": "stdout",
     "output_type": "stream",
     "text": [
      "                     auth     pub\n",
      "code                             \n",
      "67023250       위화 저/최용만 역     푸른숲\n",
      "85111358      거페이 저/유소영 역      더봄\n",
      "40934407     다빙 저 / 최인애 역  라이팅하우스\n",
      "8372591    모옌 저/유소영,심규호 역     민음사\n",
      "27951779      얼웨허 저/홍순도 역      더봄\n",
      "...                   ...     ...\n",
      "5083175   파울로 코엘료 저/이상해 역    문학동네\n",
      "24758914      어니스트 헤밍웨이 저     범조사\n",
      "90373622   리타 기버트 저/신정환 역      그책\n",
      "15119005    미겔 데 세르반테스  저     내츄럴\n",
      "41699094     미겔 데 세르반테스 저     내츄럴\n",
      "\n",
      "[28043 rows x 2 columns]\n"
     ]
    }
   ],
   "source": [
    "df_additional.drop('index', axis=1, inplace=True)\n",
    "print(df_additional)"
   ]
  },
  {
   "cell_type": "code",
   "execution_count": 27,
   "metadata": {},
   "outputs": [
    {
     "name": "stdout",
     "output_type": "stream",
     "text": [
      "                                                       auth            pub\n",
      "code                                                                      \n",
      "77728115                                          ��하오 리우 저          서울셀렉션\n",
      "35385347                                       리비화(李碧華) 외 저     도서출판 푸른사상사\n",
      "81530428  마오둔,라오서,장광츠,훙링페이,예쯔,러우스,류나어우,스저춘,수췬,돤무훙량 공저 외 ...           어문학사\n",
      "35520448                                           중국학@센터 저            학고방\n",
      "74258341                                            天上風流人 저           유페이퍼\n",
      "...                                                     ...            ...\n",
      "93738702                                         사라 온 제�� 저            책다름\n",
      "93738708                                         사라 온 제�� 저            책다름\n",
      "23022193                             니콜라이 체르니��스키 저 / 김정아 역  지식을만드는지식(지만지)\n",
      "13940353                             Л. А. 드미트리예프 저 / 조주관 역  지식을만드는지식(지만지)\n",
      "19351454                                     도스토예프스키 외 6人 저             붐북\n",
      "\n",
      "[539 rows x 2 columns]\n"
     ]
    }
   ],
   "source": [
    "check_filter = df_additional['auth'].str.match('.*[^가-힣0-9a-zA-Z /,.\\-()‘’ ].*') |\\\n",
    "                df_additional['pub'].str.match('.*[^가-힣0-9a-zA-Z /,.\\-()‘’ ].*')\n",
    "\n",
    "df_check = df_additional[check_filter]\n",
    "print(df_check)"
   ]
  },
  {
   "cell_type": "code",
   "execution_count": 20,
   "metadata": {},
   "outputs": [],
   "source": [
    "# df_check.to_csv('./datasets/book_additional_check.csv')"
   ]
  },
  {
   "cell_type": "code",
   "execution_count": 28,
   "metadata": {},
   "outputs": [
    {
     "name": "stdout",
     "output_type": "stream",
     "text": [
      "          Unnamed: 0  index  \\\n",
      "code                          \n",
      "77728115          94     94   \n",
      "35385347         461    461   \n",
      "81530428         520    520   \n",
      "35520448         704    704   \n",
      "74258341         728    728   \n",
      "...              ...    ...   \n",
      "93738702       27323   2078   \n",
      "93738708       27351   2106   \n",
      "23022193       27570    111   \n",
      "13940353       27803    373   \n",
      "19351454       27897    477   \n",
      "\n",
      "                                                       auth            pub  \\\n",
      "code                                                                         \n",
      "77728115                                           슌하오 리우 저          서울셀렉션   \n",
      "35385347                                       리비화(李碧華) 외 저     도서출판 푸른사상사   \n",
      "81530428  마오둔,라오서,장광츠,훙링페이,예쯔,러우스,류나어우,스저춘,수췬,돤무훙량 공저 외 ...           어문학사   \n",
      "35520448                                           중국학@센터 저            학고방   \n",
      "74258341                                            天上風流人 저           유페이퍼   \n",
      "...                                                     ...            ...   \n",
      "93738702                                          사라 온 제웻 저            책다름   \n",
      "93738708                                          사라 온 제웻 저            책다름   \n",
      "23022193                              니콜라이 체르니솁스키 저 / 김정아 역  지식을만드는지식(지만지)   \n",
      "13940353                             Л. А. 드미트리예프 저 / 조주관 역  지식을만드는지식(지만지)   \n",
      "19351454                                     도스토예프스키 외 6人 저             붐북   \n",
      "\n",
      "         Unnamed: 5  \n",
      "code                 \n",
      "77728115        NaN  \n",
      "35385347        NaN  \n",
      "81530428        NaN  \n",
      "35520448        NaN  \n",
      "74258341        NaN  \n",
      "...             ...  \n",
      "93738702        NaN  \n",
      "93738708        NaN  \n",
      "23022193        NaN  \n",
      "13940353        NaN  \n",
      "19351454        NaN  \n",
      "\n",
      "[539 rows x 5 columns]\n"
     ]
    }
   ],
   "source": [
    "df_cleaned = pd.read_csv('./data_raw/book_additional_cleaned.csv', index_col=1)\n",
    "print(df_cleaned)"
   ]
  },
  {
   "cell_type": "code",
   "execution_count": 29,
   "metadata": {},
   "outputs": [
    {
     "name": "stdout",
     "output_type": "stream",
     "text": [
      "                                                       auth            pub\n",
      "code                                                                      \n",
      "77728115                                           슌하오 리우 저          서울셀렉션\n",
      "35385347                                       리비화(李碧華) 외 저     도서출판 푸른사상사\n",
      "81530428  마오둔,라오서,장광츠,훙링페이,예쯔,러우스,류나어우,스저춘,수췬,돤무훙량 공저 외 ...           어문학사\n",
      "35520448                                           중국학@센터 저            학고방\n",
      "74258341                                            天上風流人 저           유페이퍼\n",
      "...                                                     ...            ...\n",
      "93738702                                          사라 온 제웻 저            책다름\n",
      "93738708                                          사라 온 제웻 저            책다름\n",
      "23022193                              니콜라이 체르니솁스키 저 / 김정아 역  지식을만드는지식(지만지)\n",
      "13940353                             Л. А. 드미트리예프 저 / 조주관 역  지식을만드는지식(지만지)\n",
      "19351454                                     도스토예프스키 외 6人 저             붐북\n",
      "\n",
      "[539 rows x 2 columns]\n"
     ]
    }
   ],
   "source": [
    "df_cleaned.drop([\"Unnamed: 0\", \"index\", \"Unnamed: 5\"], axis=1, inplace=True)\n",
    "print(df_cleaned)"
   ]
  },
  {
   "cell_type": "code",
   "execution_count": 30,
   "metadata": {},
   "outputs": [],
   "source": [
    "for code in df_cleaned.index:\n",
    "    df_additional.loc[code]['auth'] = df_cleaned.loc[code]['auth']\n",
    "    df_additional.loc[code]['pub'] = df_cleaned.loc[code]['pub']"
   ]
  },
  {
   "cell_type": "code",
   "execution_count": 31,
   "metadata": {},
   "outputs": [
    {
     "name": "stdout",
     "output_type": "stream",
     "text": [
      "                     auth     pub\n",
      "code                             \n",
      "67023250       위화 저/최용만 역     푸른숲\n",
      "85111358      거페이 저/유소영 역      더봄\n",
      "40934407     다빙 저 / 최인애 역  라이팅하우스\n",
      "8372591    모옌 저/유소영,심규호 역     민음사\n",
      "27951779      얼웨허 저/홍순도 역      더봄\n",
      "...                   ...     ...\n",
      "5083175   파울로 코엘료 저/이상해 역    문학동네\n",
      "24758914      어니스트 헤밍웨이 저     범조사\n",
      "90373622   리타 기버트 저/신정환 역      그책\n",
      "15119005    미겔 데 세르반테스  저     내츄럴\n",
      "41699094     미겔 데 세르반테스 저     내츄럴\n",
      "\n",
      "[28043 rows x 2 columns]\n"
     ]
    }
   ],
   "source": [
    "print(df_additional)"
   ]
  },
  {
   "cell_type": "code",
   "execution_count": 32,
   "metadata": {
    "scrolled": true
   },
   "outputs": [
    {
     "name": "stdout",
     "output_type": "stream",
     "text": [
      "                                                       auth            pub\n",
      "code                                                                      \n",
      "35385347                                       리비화(李碧華) 외 저     도서출판 푸른사상사\n",
      "81530428  마오둔,라오서,장광츠,훙링페이,예쯔,러우스,류나어우,스저춘,수췬,돤무훙량 공저 외 ...           어문학사\n",
      "35520448                                           중국학@센터 저            학고방\n",
      "74258341                                            天上風流人 저           유페이퍼\n",
      "74028274                                          天上風流人 纂 저          BOOKK\n",
      "...                                                     ...            ...\n",
      "92275742                              앙투안 드 생텍쥐페리ㅣ다니엘 번역팀 저      도서출판 은혜의강\n",
      "89333801                            저자: 셰익스피어  /  편저: 남인우 저           유페이퍼\n",
      "93715030                                Louisa_May_Alcott 저         디즈비즈북스\n",
      "13940353                             Л. А. 드미트리예프 저 / 조주관 역  지식을만드는지식(지만지)\n",
      "19351454                                     도스토예프스키 외 6人 저             붐북\n",
      "\n",
      "[523 rows x 2 columns]\n"
     ]
    }
   ],
   "source": [
    "check_filter = df_additional['auth'].str.match('.*[^가-힣0-9a-zA-Z /,.\\-()‘’ ].*') |\\\n",
    "                df_additional['pub'].str.match('.*[^가-힣0-9a-zA-Z /,.\\-()‘’ ].*')\n",
    "\n",
    "df_check = df_additional[check_filter]\n",
    "print(df_check)"
   ]
  },
  {
   "cell_type": "code",
   "execution_count": 33,
   "metadata": {},
   "outputs": [],
   "source": [
    "df_additional.to_csv(\"./datasets/book_additional_cleaned.csv\")"
   ]
  },
  {
   "cell_type": "code",
   "execution_count": 3,
   "metadata": {},
   "outputs": [
    {
     "name": "stdout",
     "output_type": "stream",
     "text": [
      "                     auth     pub\n",
      "code                             \n",
      "67023250       위화 저/최용만 역     푸른숲\n",
      "85111358      거페이 저/유소영 역      더봄\n",
      "40934407     다빙 저 / 최인애 역  라이팅하우스\n",
      "8372591    모옌 저/유소영,심규호 역     민음사\n",
      "27951779      얼웨허 저/홍순도 역      더봄\n",
      "...                   ...     ...\n",
      "5083175   파울로 코엘료 저/이상해 역    문학동네\n",
      "24758914      어니스트 헤밍웨이 저     범조사\n",
      "90373622   리타 기버트 저/신정환 역      그책\n",
      "15119005    미겔 데 세르반테스  저     내츄럴\n",
      "41699094     미겔 데 세르반테스 저     내츄럴\n",
      "\n",
      "[28043 rows x 2 columns]\n"
     ]
    }
   ],
   "source": [
    "df_additional = pd.read_csv(\"./datasets/book_additional_cleaned.csv\", index_col=0)\n",
    "print(df_additional)"
   ]
  },
  {
   "cell_type": "code",
   "execution_count": 16,
   "metadata": {
    "scrolled": true
   },
   "outputs": [
    {
     "name": "stdout",
     "output_type": "stream",
     "text": [
      "                                              title  \\\n",
      "code                                                  \n",
      "89581251  \"Are We Downhearted? No!\" (영어로 세계문학읽기 74)   \n",
      "93179377          \"Choice Spirits\" (영어로 세계문학읽기 584)   \n",
      "92820116         \"Government Goat\" (영어로 세계문학읽기 449)   \n",
      "90864541           \"My Son's Wife\" (영어로 세계문학읽기 216)   \n",
      "89987269         \"O Russet Witch!\" (영어로 세계문학읽기 121)   \n",
      "...                                             ...   \n",
      "43839052                        힐 하우스의 유령 - 미스터리 책장   \n",
      "14675866                            힐을 신고 엄마를 잊어버렸다   \n",
      "71033875                               힘과 돈과 사랑의 세상   \n",
      "67327654                                     힘내라 돼지   \n",
      "95786064                                    ＇나의 투쟁＇   \n",
      "\n",
      "                                                        img  \\\n",
      "code                                                          \n",
      "89581251        http://image.yes24.com/goods/89581251/800x0   \n",
      "93179377        http://image.yes24.com/goods/93179377/800x0   \n",
      "92820116        http://image.yes24.com/goods/92820116/800x0   \n",
      "90864541        http://image.yes24.com/goods/90864541/800x0   \n",
      "89987269        http://image.yes24.com/goods/89987269/800x0   \n",
      "...                                                     ...   \n",
      "43839052        http://image.yes24.com/goods/43839052/800x0   \n",
      "14675866  http://image.yes24.com/momo/TopCate0001/kepub/...   \n",
      "71033875        http://image.yes24.com/goods/71033875/800x0   \n",
      "67327654        http://image.yes24.com/goods/67327654/800x0   \n",
      "95786064        http://image.yes24.com/goods/95786064/800x0   \n",
      "\n",
      "                                                       info  \n",
      "code                                                         \n",
      "89581251  단편소설 영문판 소년 캐나다인 스물 키 이야기 이름 세실 해밀턴 이다 도서 본문 영...  \n",
      "93179377  단편소설 영문판 원서 영어 세계 문학 읽기 시리즈 고전 원작 읽기 부담 영어 실력 ...  \n",
      "92820116  단편소설 영문판 원서 영어 세계 문학 읽기 시리즈 고전 원작 읽기 부담 영어 실력 ...  \n",
      "90864541  단편소설 영문판 원서 영어 세계 문학 읽기 시리즈 고전 원작 읽기 부담 영어 실력 ...  \n",
      "89987269  단편소설 영문판 원서 영어 세계 문학 읽기 시리즈 고전 원작 읽기 부담 영어 실력 ...  \n",
      "...                                                     ...  \n",
      "43839052  생명체 절대 현실 광기 공포 저택 스스로 사람 광기 충격 결말 어머니 죽음 후 난생...  \n",
      "14675866  설명 글 옴니버스 단편소설 모음집 여자 자폐증 여자 날 집 엄마 안경 발견 어머니 ...  \n",
      "71033875  진달래 끝 밀알 꽃 봉우리 손 비둘기 가슴 해 싹 사랑 목소리 쑥국 쑥국 봄 동산 ...  \n",
      "67327654  극한 상황 중년 남성 위로 희망 페이 소스 페러독스 코미디 무장 수용소 소설 단편 ...  \n",
      "95786064  작가 미주 실험 나의투쟁 이번 단편 집 소설 여운 재미 단편소설 현대 사회 궁합 찰...  \n",
      "\n",
      "[26447 rows x 3 columns]\n"
     ]
    }
   ],
   "source": [
    "df_book_keyword = pd.read_csv(\"./datasets/book_keyword.csv\", index_col=0)\n",
    "print(df_book_keyword)"
   ]
  },
  {
   "cell_type": "code",
   "execution_count": 17,
   "metadata": {},
   "outputs": [],
   "source": [
    "df_book = df_book_keyword[['title', 'img']]"
   ]
  },
  {
   "cell_type": "code",
   "execution_count": 38,
   "metadata": {},
   "outputs": [
    {
     "name": "stdout",
     "output_type": "stream",
     "text": [
      "                                              title  \\\n",
      "code                                                  \n",
      "89581251  \"Are We Downhearted? No!\" (영어로 세계문학읽기 74)   \n",
      "93179377          \"Choice Spirits\" (영어로 세계문학읽기 584)   \n",
      "92820116         \"Government Goat\" (영어로 세계문학읽기 449)   \n",
      "90864541           \"My Son's Wife\" (영어로 세계문학읽기 216)   \n",
      "89987269         \"O Russet Witch!\" (영어로 세계문학읽기 121)   \n",
      "...                                             ...   \n",
      "43839052                        힐 하우스의 유령 - 미스터리 책장   \n",
      "14675866                            힐을 신고 엄마를 잊어버렸다   \n",
      "71033875                               힘과 돈과 사랑의 세상   \n",
      "67327654                                     힘내라 돼지   \n",
      "95786064                                    ＇나의 투쟁＇   \n",
      "\n",
      "                                                        img           auth  \\\n",
      "code                                                                         \n",
      "89581251        http://image.yes24.com/goods/89581251/800x0  메리 로버츠 라인하트 저   \n",
      "93179377        http://image.yes24.com/goods/93179377/800x0   W. W. 제이콥스 저   \n",
      "92820116        http://image.yes24.com/goods/92820116/800x0      수전 글래스펠 저   \n",
      "90864541        http://image.yes24.com/goods/90864541/800x0     러디어드 키플링 저   \n",
      "89987269        http://image.yes24.com/goods/89987269/800x0  F. 스콧 피츠제럴드 저   \n",
      "...                                                     ...            ...   \n",
      "43839052        http://image.yes24.com/goods/43839052/800x0  셜리 잭슨 저/김시현 역   \n",
      "14675866  http://image.yes24.com/momo/TopCate0001/kepub/...          문현실 저   \n",
      "71033875        http://image.yes24.com/goods/71033875/800x0          김종득 저   \n",
      "67327654        http://image.yes24.com/goods/67327654/800x0          심상대 저   \n",
      "95786064        http://image.yes24.com/goods/95786064/800x0          지미준 저   \n",
      "\n",
      "             pub  \n",
      "code              \n",
      "89581251     책다름  \n",
      "93179377     책다름  \n",
      "92820116     책다름  \n",
      "90864541     책다름  \n",
      "89987269     책다름  \n",
      "...          ...  \n",
      "43839052    엘릭시르  \n",
      "14675866    키메이커  \n",
      "71033875  지식과감성#  \n",
      "67327654   나무옆의자  \n",
      "95786064    천재창조  \n",
      "\n",
      "[26447 rows x 4 columns]\n",
      "<class 'pandas.core.frame.DataFrame'>\n",
      "Int64Index: 26447 entries, 89581251 to 95786064\n",
      "Data columns (total 4 columns):\n",
      " #   Column  Non-Null Count  Dtype \n",
      "---  ------  --------------  ----- \n",
      " 0   title   26447 non-null  object\n",
      " 1   img     26447 non-null  object\n",
      " 2   auth    26440 non-null  object\n",
      " 3   pub     26440 non-null  object\n",
      "dtypes: object(4)\n",
      "memory usage: 1.0+ MB\n",
      "None\n",
      "                           title  \\\n",
      "code                               \n",
      "19361939  [세트] 움베르토 에코 선집 (전11권)   \n",
      "33298199   [합본] 아이리스 제로 (전2권/완결)   \n",
      "96395789           동방박사의 선물 (원서)   \n",
      "94516820                    미카에게   \n",
      "9002172     아엘리타 - 지식을만드는지식 천줄읽기   \n",
      "33298201               아이리스 제로 1   \n",
      "33298200          아이리스 제로 2 (완결)   \n",
      "\n",
      "                                                        img auth  pub  \n",
      "code                                                                   \n",
      "19361939  http://image.yes24.com/momo/TopCate0001/kepub/...  NaN  NaN  \n",
      "33298199  http://image.yes24.com/momo/TopCate0001/kepub/...  NaN  NaN  \n",
      "96395789        http://image.yes24.com/goods/96395789/800x0  NaN  NaN  \n",
      "94516820        http://image.yes24.com/goods/94516820/800x0  NaN  NaN  \n",
      "9002172   http://image.yes24.com/momo/TopCate0001/kepub/...  NaN  NaN  \n",
      "33298201  http://image.yes24.com/momo/TopCate0001/kepub/...  NaN  NaN  \n",
      "33298200  http://image.yes24.com/momo/TopCate0001/kepub/...  NaN  NaN  \n"
     ]
    }
   ],
   "source": [
    "merge_left = pd.merge(df_book, df_additional, how='left', on='code')\n",
    "print(merge_left)\n",
    "print(merge_left.info())\n",
    "print(merge_left[merge_left['auth'].isnull() | merge_left['pub'].isnull()])"
   ]
  },
  {
   "cell_type": "code",
   "execution_count": 39,
   "metadata": {},
   "outputs": [
    {
     "name": "stdout",
     "output_type": "stream",
     "text": [
      "Int64Index([19361939, 33298199, 96395789, 94516820, 9002172, 33298201,\n",
      "            33298200],\n",
      "           dtype='int64', name='code')\n",
      "                           title  \\\n",
      "code                               \n",
      "19361939  [세트] 움베르토 에코 선집 (전11권)   \n",
      "33298199   [합본] 아이리스 제로 (전2권/완결)   \n",
      "96395789           동방박사의 선물 (원서)   \n",
      "94516820                    미카에게   \n",
      "9002172     아엘리타 - 지식을만드는지식 천줄읽기   \n",
      "33298201               아이리스 제로 1   \n",
      "33298200          아이리스 제로 2 (완결)   \n",
      "\n",
      "                                                        img auth  pub  \n",
      "code                                                                   \n",
      "19361939  http://image.yes24.com/momo/TopCate0001/kepub/...  NaN  NaN  \n",
      "33298199  http://image.yes24.com/momo/TopCate0001/kepub/...  NaN  NaN  \n",
      "96395789        http://image.yes24.com/goods/96395789/800x0  NaN  NaN  \n",
      "94516820        http://image.yes24.com/goods/94516820/800x0  NaN  NaN  \n",
      "9002172   http://image.yes24.com/momo/TopCate0001/kepub/...  NaN  NaN  \n",
      "33298201  http://image.yes24.com/momo/TopCate0001/kepub/...  NaN  NaN  \n",
      "33298200  http://image.yes24.com/momo/TopCate0001/kepub/...  NaN  NaN  \n"
     ]
    }
   ],
   "source": [
    "missing_codes = merge_left[merge_left['auth'].isnull() | merge_left['pub'].isnull()].index\n",
    "print(missing_codes)\n",
    "print(merge_left.loc[missing_codes])"
   ]
  },
  {
   "cell_type": "code",
   "execution_count": 40,
   "metadata": {},
   "outputs": [
    {
     "name": "stdout",
     "output_type": "stream",
     "text": [
      "                           title  \\\n",
      "code                               \n",
      "19361939  [세트] 움베르토 에코 선집 (전11권)   \n",
      "33298199   [합본] 아이리스 제로 (전2권/완결)   \n",
      "96395789           동방박사의 선물 (원서)   \n",
      "94516820                    미카에게   \n",
      "9002172     아엘리타 - 지식을만드는지식 천줄읽기   \n",
      "33298201               아이리스 제로 1   \n",
      "33298200          아이리스 제로 2 (완결)   \n",
      "\n",
      "                                                        img  \\\n",
      "code                                                          \n",
      "19361939  http://image.yes24.com/momo/TopCate0001/kepub/...   \n",
      "33298199  http://image.yes24.com/momo/TopCate0001/kepub/...   \n",
      "96395789        http://image.yes24.com/goods/96395789/800x0   \n",
      "94516820        http://image.yes24.com/goods/94516820/800x0   \n",
      "9002172   http://image.yes24.com/momo/TopCate0001/kepub/...   \n",
      "33298201  http://image.yes24.com/momo/TopCate0001/kepub/...   \n",
      "33298200  http://image.yes24.com/momo/TopCate0001/kepub/...   \n",
      "\n",
      "                         auth            pub  \n",
      "code                                          \n",
      "19361939            움베르토 에코 저           열린책들  \n",
      "33298199                조규원 저          바로미디어  \n",
      "96395789               오 헨리 저             효솔  \n",
      "94516820      유즈키 아사코 저/김은모 역             리프  \n",
      "9002172   알렉세이 톨스토이 저 / 김성일 역  지식을만드는지식(지만지)  \n",
      "33298201                조규원 저          바로미디어  \n",
      "33298200                조규원 저          바로미디어  \n"
     ]
    }
   ],
   "source": [
    "auths = ['움베르토 에코 저', '조규원 저', '오 헨리 저', '유즈키 아사코 저/김은모 역', '알렉세이 톨스토이 저 / 김성일 역', \n",
    "         '조규원 저', '조규원 저']\n",
    "pubs = ['열린책들', '바로미디어', '효솔', '리프', '지식을만드는지식(지만지)', '바로미디어', '바로미디어']\n",
    "\n",
    "for i, code in enumerate(missing_codes):\n",
    "    merge_left.loc[code]['auth'] = auths[i]\n",
    "    merge_left.loc[code]['pub'] = pubs[i]\n",
    "\n",
    "print(merge_left.loc[missing_codes])"
   ]
  },
  {
   "cell_type": "code",
   "execution_count": 41,
   "metadata": {},
   "outputs": [],
   "source": [
    "merge_left.to_csv('./datasets/book_info.csv')"
   ]
  }
 ],
 "metadata": {
  "kernelspec": {
   "display_name": "Python 3",
   "language": "python",
   "name": "python3"
  },
  "language_info": {
   "codemirror_mode": {
    "name": "ipython",
    "version": 3
   },
   "file_extension": ".py",
   "mimetype": "text/x-python",
   "name": "python",
   "nbconvert_exporter": "python",
   "pygments_lexer": "ipython3",
   "version": "3.7.9"
  }
 },
 "nbformat": 4,
 "nbformat_minor": 4
}
